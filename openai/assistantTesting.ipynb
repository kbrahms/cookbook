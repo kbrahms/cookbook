{
 "cells": [
  {
   "cell_type": "raw",
   "id": "f93252bd-a8c6-4f8a-b906-2f7dfe0703e1",
   "metadata": {},
   "source": [
    "This is to test the Open AI assistant responses, for the json files loaded in the vector DB.\n",
    "\n",
    "Prerequisites:\n",
    "set Environment variables for\n",
    "ASSISTANT_ID that has the assistant ID from openai\n",
    "OPENAI_API_KEY that has the OPENAI API KEY\n",
    "\n",
    "\n",
    "\n",
    "Load json files that needs to be queried by OpenAI assistant.\n",
    "\n",
    "File 'request_response.json' JSON format is array of maps. Sample json file should be like below\n",
    "[\n",
    "{\n",
    "\t\t\"qn_id\": 1,\n",
    "\t\t\"question\" : \"How many products are there?\",\n",
    "\t\t\"Keywords\" : [\"total of 15 \"]\n",
    "\t},\n",
    "\t{\n",
    "\t\t\"qn_id\": 2,\n",
    "\t\t\"question\" : \"How many products are there with Medium?\",\n",
    "\t\t\"Keywords\" : [\"total of 6 \"]\n",
    "\t}\n",
    "]\n",
    "\n",
    "\n",
    "Below program iterates all the elements from the JSON file, passes the Question to OpenAI and validates if the response contains the keywords mentioned in the JSON. \n",
    "\n",
    "\n"
   ]
  },
  {
   "cell_type": "code",
   "execution_count": 1,
   "id": "33fa05f2-82c6-427c-a173-0eb8b1ab4718",
   "metadata": {},
   "outputs": [],
   "source": [
    "import ast\n",
    "import os\n",
    "import time\n",
    "import json\n",
    "from openai import OpenAI\n",
    "from tqdm import tqdm"
   ]
  },
  {
   "cell_type": "code",
   "execution_count": 2,
   "id": "357248c3-9226-49fe-bc9e-5b7b9d3b5d55",
   "metadata": {},
   "outputs": [],
   "source": [
    "#settings\n",
    "debug=False\n",
    "assistant_id = os.environ.get(\"ASSISTANT_ID\")\n",
    "sleep_time_for_openai_to_respond = 5\n",
    "validateResponse = 'request_response.json' #Name of the json file"
   ]
  },
  {
   "cell_type": "code",
   "execution_count": 3,
   "id": "21cd24fb-95fc-4bf9-bc21-a56fc5ea0bc2",
   "metadata": {},
   "outputs": [],
   "source": [
    "#instantiate\n",
    "\n",
    "client = OpenAI(api_key=os.environ.get(\"OPENAI_API_KEY\"))\n",
    "\n",
    "assistant = client.beta.assistants.retrieve(assistant_id)\n",
    "if debug:\n",
    "    print(f'Assistant id is : {assistant.id}')\n",
    "    \n",
    "thread = client.beta.threads.create()\n",
    "if debug:\n",
    "    print(f'Thread id is : {thread.id}')\n",
    "\n",
    "\n",
    "f = open(validateResponse)\n",
    "requests = json.load(f)\n",
    "if debug:\n",
    "    print(requests)\n"
   ]
  },
  {
   "cell_type": "code",
   "execution_count": 4,
   "id": "4edb21ce-460e-4a50-9db8-9fd096aac3ab",
   "metadata": {},
   "outputs": [],
   "source": [
    "if debug:\n",
    "    for qn in requests:\n",
    "        print(qn['question'])"
   ]
  },
  {
   "cell_type": "code",
   "execution_count": 5,
   "id": "3787dd81-50e0-4219-8e55-d1ec106772ec",
   "metadata": {},
   "outputs": [
    {
     "name": "stderr",
     "output_type": "stream",
     "text": [
      "100%|████████████████████████████████████████████████████████████████████████████████████████████████████████| 9/9 [00:51<00:00,  5.74s/it]\n"
     ]
    }
   ],
   "source": [
    "for qn in tqdm(requests):\n",
    "    thread_message = client.beta.threads.messages.create(\n",
    "      thread.id,\n",
    "      role=\"user\",\n",
    "      content=qn['question']\n",
    "    )\n",
    "    run = client.beta.threads.runs.create(\n",
    "        thread_id=thread.id,\n",
    "        assistant_id=assistant.id\n",
    "    )\n",
    "    if debug:\n",
    "        print(f'Run id : {run.id}')\n",
    "    time.sleep(sleep_time_for_openai_to_respond)\n",
    "    run = client.beta.threads.runs.retrieve(\n",
    "      thread_id=thread.id,\n",
    "      run_id=run.id\n",
    "    )\n",
    "\n",
    "    if debug:\n",
    "        print(f'Finished question: {qn[\"qn_id\"]}')"
   ]
  },
  {
   "cell_type": "code",
   "execution_count": 6,
   "id": "c273121e-8398-4407-b7b3-c8acd25b7aea",
   "metadata": {},
   "outputs": [],
   "source": [
    "thread_messages = client.beta.threads.messages.list(thread.id)\n",
    "if debug:\n",
    "    print('Messages ')\n",
    "    print(thread_messages.data)"
   ]
  },
  {
   "cell_type": "code",
   "execution_count": 7,
   "id": "7eadcd22-0e40-4949-9d06-da4b85b94394",
   "metadata": {},
   "outputs": [
    {
     "name": "stderr",
     "output_type": "stream",
     "text": [
      "18it [00:00, 123969.58it/s]\n"
     ]
    }
   ],
   "source": [
    "counter = 0\n",
    "for message in tqdm(reversed(thread_messages.data)):\n",
    "    \n",
    "    \n",
    "    if message.role == 'assistant':\n",
    "        qn = requests[counter]\n",
    "        keywords = qn['Keywords']\n",
    "        for keyword in keywords:\n",
    "            #print(keyword)\n",
    "            if keyword not in message.content[0].text.value:\n",
    "                \n",
    "                print(f'For question number \"{counter+1}\": {qn[\"question\"]}\\n Keyword {keyword} is not found')\n",
    "                print(\"Response from assistant: \\n\" + message.content[0].text.value)\n",
    "        counter = counter+1"
   ]
  },
  {
   "cell_type": "code",
   "execution_count": null,
   "id": "ddbd8028-81ec-45c3-889b-c6fd8915ba2e",
   "metadata": {},
   "outputs": [],
   "source": []
  }
 ],
 "metadata": {
  "kernelspec": {
   "display_name": "Python 3 (ipykernel)",
   "language": "python",
   "name": "python3"
  },
  "language_info": {
   "codemirror_mode": {
    "name": "ipython",
    "version": 3
   },
   "file_extension": ".py",
   "mimetype": "text/x-python",
   "name": "python",
   "nbconvert_exporter": "python",
   "pygments_lexer": "ipython3",
   "version": "3.10.14"
  }
 },
 "nbformat": 4,
 "nbformat_minor": 5
}
